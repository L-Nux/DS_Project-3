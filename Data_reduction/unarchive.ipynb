{
 "cells": [
  {
   "cell_type": "code",
   "execution_count": null,
   "id": "16220f35",
   "metadata": {},
   "outputs": [],
   "source": [
    "from zipfile import *\n",
    "import os\n",
    " \n",
    "#where to unzip\n",
    "zip_out = '/Users/marinakozevnikova/Desktop/Uni2021/Project/3dm'\n",
    "# location of a file\n",
    "file_path = '/Users/marinakozevnikova/Desktop/Uni2021/Project/20211007_3dim_rohdaten.zip'\n",
    " \n",
    "if os.path.isfile(file_path):\n",
    "    print(\"FILE path name:\", file_path) \n",
    "    try :        \n",
    "        with ZipFile (file_path, 'r') as zip_file :\n",
    "            file_name_list = zip_file.namelist ()\n",
    "            for file_name in file_name_list :\n",
    "                if '01_05_B' in file_name :             \n",
    "                    print (\"IN ZIP -->>  \",file_path)\n",
    "                    print (\"FILE NAME-->\", file_name)\n",
    "                    try :\n",
    "                        zip_file.extract(file_name, zip_out)                       \n",
    "                    \n",
    "                    except RuntimeError:\n",
    "                        continue\n",
    "                        \n",
    "    except BadZipfile :\n",
    "        print (\"Bad Zip File\", zip_file)\n",
    "    "
   ]
  }
 ],
 "metadata": {
  "kernelspec": {
   "display_name": "Python 3",
   "language": "python",
   "name": "python3"
  },
  "language_info": {
   "codemirror_mode": {
    "name": "ipython",
    "version": 3
   },
   "file_extension": ".py",
   "mimetype": "text/x-python",
   "name": "python",
   "nbconvert_exporter": "python",
   "pygments_lexer": "ipython3",
   "version": "3.9.5"
  }
 },
 "nbformat": 4,
 "nbformat_minor": 5
}
